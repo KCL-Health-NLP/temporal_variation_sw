{
 "cells": [
  {
   "cell_type": "markdown",
   "metadata": {},
   "source": [
    "This notebook contains code used for generating temporal variation patterns from SuicideWatch on Reddit, as well as from a control set of posts from AskReddit, used in a study to understand posting patterns in terms of time. Here, the focus is on day of the week.\n",
    "\n",
    "The underlying data is from https://redd.it/3mg812. To get access to the subsets used in this study, please contact us directly.\n",
    "\n",
    "The key steps for the analysis are the following:\n",
    "- We start with the published/downloaded archive and generate subsets for the analysis: SuicideWatch and AskReddit\n",
    "- We cast timestamp into datetime (we lost 0 posts as a result of this transformation, i.e. all have been casted to datetime properly)\n",
    "- We only keep posts and filter out comments by keeping messages that have no parent_id (NB: a message that has a valid parent_id means this message is a comment; this is documented in the Reddit pages)\n",
    "- We calculate the first Monday (firstMonday) and the last Sunday (lastSunday) from within our dataset. We filter out all posts that are before firstMonday or after lastSunday.\n",
    "\n",
    "Written by George Gkotsis, with input from Sumithra Velupillai, King's College London, 2016-2019"
   ]
  },
  {
   "cell_type": "code",
   "execution_count": 2,
   "metadata": {
    "collapsed": true
   },
   "outputs": [],
   "source": [
    "import pandas as pd"
   ]
  },
  {
   "cell_type": "code",
   "execution_count": 25,
   "metadata": {},
   "outputs": [],
   "source": [
    "# 1. suicidewatch\n",
    "# df = pd.read_pickle(\"../reddit/suicidewatch.pickle\")\n",
    "# fname = \"Suicidewatch-weekly\"\n",
    "\n",
    "# 2. suicidewatch - throwaway\n",
    "# df = pd.read_pickle(\"../reddit/suicidewatch.pickle\")\n",
    "# df = df[df['author'].str.contains('throw', case=False)]\n",
    "# fname = \"suicidewatch-throwaway-weekly\"\n",
    "\n",
    "# 3. AskReddit\n",
    "# df = pd.read_pickle(\"AskReddit_min.pickle\")\n",
    "# fname = \"AskReddit-weekly\"\n",
    "\n",
    "# 4. AskReddit - control\n",
    "df = pd.read_pickle(\"AskReddit_min.pickle\")\n",
    "authors = pd.read_pickle(\"../reddit/suicidewatch.pickle\")\n",
    "authors = authors[authors['parent_id'].astype(str)=='nan']\n",
    "authors = set(authors['author'].unique())\n",
    "authors.remove('[deleted]')\n",
    "df = df[df['author'].isin(authors)]\n",
    "fname = \"AskReddit-control-weekly\""
   ]
  },
  {
   "cell_type": "code",
   "execution_count": 23,
   "metadata": {
    "collapsed": true
   },
   "outputs": [],
   "source": [
    "def doDT(st):\n",
    "    import datetime\n",
    "    try:\n",
    "        return datetime.datetime.fromtimestamp(st)\n",
    "    except Exception:\n",
    "        return None\n",
    "\n",
    "def analyseDFWeek(df):\n",
    "    import datetime\n",
    "    if 'parent_id' in df.columns:\n",
    "        posts = df[df['parent_id'].astype(str)=='nan']\n",
    "    else:\n",
    "        posts = df\n",
    "    posts['created'] = posts['created'].apply(doDT)\n",
    "    a = len(posts)\n",
    "    posts = posts.dropna(subset=['created'])\n",
    "    b = len(posts)\n",
    "    print \"lost\", b-a, \"posts\"\n",
    "    posts = posts.set_index('created')        \n",
    "    firstMonday = posts[posts.index.dayofweek==0].index.min()\n",
    "    lastSunday = posts[posts.index.dayofweek==6].index.max()\n",
    "    posts = posts[posts.index>=firstMonday]\n",
    "    posts = posts[posts.index<=lastSunday]\n",
    "    d = firstMonday.date()\n",
    "    rs = pd.DataFrame()\n",
    "    while d<lastSunday.date():\n",
    "        tmp = posts[posts.index.date>=d]\n",
    "        end = d + datetime.timedelta(7)\n",
    "        tmp = posts[posts.index.date<end]\n",
    "        tmp['weekday'] = tmp.index.weekday\n",
    "        week = tmp.groupby(tmp.index.weekday)['weekday'].count()\n",
    "        week = pd.DataFrame(week)\n",
    "        cnt = week['weekday'].sum()\n",
    "        week['pct'] = week['weekday']/float(week['weekday'].sum())\n",
    "        week = pd.DataFrame(week['pct']).transpose()\n",
    "        week['cnt'] = cnt\n",
    "        if cnt<200:\n",
    "            d = end\n",
    "            continue\n",
    "        rs = pd.concat([rs, week])\n",
    "        d = end\n",
    "    return rs"
   ]
  },
  {
   "cell_type": "code",
   "execution_count": 24,
   "metadata": {},
   "outputs": [
    {
     "name": "stdout",
     "output_type": "stream",
     "text": [
      "lost 0 posts\n"
     ]
    },
    {
     "name": "stderr",
     "output_type": "stream",
     "text": [
      "/usr/local/lib/python2.7/site-packages/ipykernel/__main__.py:30: SettingWithCopyWarning: \n",
      "A value is trying to be set on a copy of a slice from a DataFrame.\n",
      "Try using .loc[row_indexer,col_indexer] = value instead\n",
      "\n",
      "See the caveats in the documentation: http://pandas.pydata.org/pandas-docs/stable/indexing.html#indexing-view-versus-copy\n"
     ]
    }
   ],
   "source": [
    "rs = analyseDFWeek(df)"
   ]
  },
  {
   "cell_type": "code",
   "execution_count": 25,
   "metadata": {},
   "outputs": [],
   "source": [
    "rs.to_excel(fname + \".xlsx\")"
   ]
  },
  {
   "cell_type": "markdown",
   "metadata": {},
   "source": [
    "Code below is for the paper and the table generation"
   ]
  },
  {
   "cell_type": "code",
   "execution_count": 26,
   "metadata": {},
   "outputs": [],
   "source": [
    "if 'parent_id' in df.columns:\n",
    "    posts = df[df['parent_id'].astype(str)=='nan']\n",
    "else:\n",
    "    posts = df"
   ]
  },
  {
   "cell_type": "code",
   "execution_count": 27,
   "metadata": {},
   "outputs": [],
   "source": [
    "authors = set(posts['author'].unique())"
   ]
  },
  {
   "cell_type": "code",
   "execution_count": 28,
   "metadata": {},
   "outputs": [
    {
     "ename": "KeyError",
     "evalue": "'[deleted]'",
     "output_type": "error",
     "traceback": [
      "\u001b[0;31m---------------------------------------------------------------------------\u001b[0m",
      "\u001b[0;31mKeyError\u001b[0m                                  Traceback (most recent call last)",
      "\u001b[0;32m<ipython-input-28-04c4005386bf>\u001b[0m in \u001b[0;36m<module>\u001b[0;34m()\u001b[0m\n\u001b[0;32m----> 1\u001b[0;31m \u001b[0mauthors\u001b[0m\u001b[0;34m.\u001b[0m\u001b[0mremove\u001b[0m\u001b[0;34m(\u001b[0m\u001b[0;34m'[deleted]'\u001b[0m\u001b[0;34m)\u001b[0m\u001b[0;34m\u001b[0m\u001b[0m\n\u001b[0m",
      "\u001b[0;31mKeyError\u001b[0m: '[deleted]'"
     ]
    }
   ],
   "source": [
    "authors.remove('[deleted]')"
   ]
  },
  {
   "cell_type": "code",
   "execution_count": 29,
   "metadata": {},
   "outputs": [
    {
     "data": {
      "text/plain": [
       "8065"
      ]
     },
     "execution_count": 29,
     "metadata": {},
     "output_type": "execute_result"
    }
   ],
   "source": [
    "len(authors)"
   ]
  },
  {
   "cell_type": "code",
   "execution_count": 30,
   "metadata": {},
   "outputs": [
    {
     "data": {
      "text/plain": [
       "66934"
      ]
     },
     "execution_count": 30,
     "metadata": {},
     "output_type": "execute_result"
    }
   ],
   "source": [
    "len(posts)"
   ]
  },
  {
   "cell_type": "code",
   "execution_count": 31,
   "metadata": {},
   "outputs": [
    {
     "data": {
      "text/plain": [
       "count    8065.000000\n",
       "mean        8.299318\n",
       "std        29.997825\n",
       "min         1.000000\n",
       "25%         1.000000\n",
       "50%         3.000000\n",
       "75%         7.000000\n",
       "max      1459.000000\n",
       "Name: author, dtype: float64"
      ]
     },
     "execution_count": 31,
     "metadata": {},
     "output_type": "execute_result"
    }
   ],
   "source": [
    "posts[posts['author'].isin(authors)]['author'].value_counts().describe()"
   ]
  },
  {
   "cell_type": "code",
   "execution_count": null,
   "metadata": {
    "collapsed": true
   },
   "outputs": [],
   "source": []
  }
 ],
 "metadata": {
  "kernelspec": {
   "display_name": "Python 2",
   "language": "python",
   "name": "python2"
  },
  "language_info": {
   "codemirror_mode": {
    "name": "ipython",
    "version": 2
   },
   "file_extension": ".py",
   "mimetype": "text/x-python",
   "name": "python",
   "nbconvert_exporter": "python",
   "pygments_lexer": "ipython2",
   "version": "2.7.15"
  }
 },
 "nbformat": 4,
 "nbformat_minor": 1
}
